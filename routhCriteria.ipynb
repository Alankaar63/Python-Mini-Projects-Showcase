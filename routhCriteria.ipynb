{
  "nbformat": 4,
  "nbformat_minor": 0,
  "metadata": {
    "colab": {
      "provenance": [],
      "authorship_tag": "ABX9TyNQe3AkTZLGwRSB6XE9YUFe",
      "include_colab_link": true
    },
    "kernelspec": {
      "name": "python3",
      "display_name": "Python 3"
    },
    "language_info": {
      "name": "python"
    }
  },
  "cells": [
    {
      "cell_type": "markdown",
      "metadata": {
        "id": "view-in-github",
        "colab_type": "text"
      },
      "source": [
        "<a href=\"https://colab.research.google.com/github/Alankaar63/Python-Mini-Projects-Showcase/blob/main/routhCriteria.ipynb\" target=\"_parent\"><img src=\"https://colab.research.google.com/assets/colab-badge.svg\" alt=\"Open In Colab\"/></a>"
      ]
    },
    {
      "cell_type": "code",
      "execution_count": 1,
      "metadata": {
        "colab": {
          "base_uri": "https://localhost:8080/"
        },
        "id": "THvYF5tsyghX",
        "outputId": "7381f1c3-94b7-4846-ac45-467b2aaeb422"
      },
      "outputs": [
        {
          "output_type": "stream",
          "name": "stdout",
          "text": [
            "\n",
            "Routh-Hurwitz Table:\n",
            "[1. 2.]\n",
            "[1. 2.]\n",
            "[0. 0.]\n",
            "[0. 0.]\n",
            "\n",
            "Number of sign changes in first column = 1\n",
            "❌ System is unstable (Right-half plane poles exist)\n"
          ]
        }
      ],
      "source": [
        "import numpy as np\n",
        "\n",
        "def routh_criterion(coeffs):\n",
        "    n = len(coeffs)\n",
        "    m = (n + 1) // 2\n",
        "    routh = np.zeros((n, m))\n",
        "\n",
        "    routh[0, :len(coeffs[::2])] = coeffs[::2]\n",
        "    routh[1, :len(coeffs[1::2])] = coeffs[1::2]\n",
        "\n",
        "\n",
        "    for i in range(2, n):\n",
        "        for j in range(m - 1):\n",
        "            upper = routh[i - 1][0]\n",
        "            if upper == 0:\n",
        "                upper = 1e-6\n",
        "            routh[i][j] = ((routh[i - 1][0] * routh[i - 2][j + 1]) -\n",
        "                           (routh[i - 2][0] * routh[i - 1][j + 1])) / upper\n",
        "\n",
        "    print(\"\\nRouth-Hurwitz Table:\")\n",
        "    for row in routh:\n",
        "        print(row)\n",
        "\n",
        "\n",
        "    first_col = routh[:, 0]\n",
        "    sign_changes = np.sum(np.diff(np.sign(first_col)) != 0)\n",
        "\n",
        "    if np.any(np.isnan(first_col)) or np.any(np.isinf(first_col)):\n",
        "        print(\"\\nRouth table has undefined values. Special cases may exist.\")\n",
        "    else:\n",
        "        print(f\"\\nNumber of sign changes in first column = {sign_changes}\")\n",
        "        if sign_changes == 0:\n",
        "            print(\"System is stable (All poles in left-half s-plane)\")\n",
        "        else:\n",
        "            print(\"System is unstable (Right-half plane poles exist)\")\n",
        "\n",
        "\n",
        "coeffs = [1, 1, 2, 2]\n",
        "routh_criterion(coeffs)\n"
      ]
    }
  ]
}